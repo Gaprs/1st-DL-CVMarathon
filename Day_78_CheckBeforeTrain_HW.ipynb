{
 "cells": [
  {
   "cell_type": "markdown",
   "metadata": {},
   "source": [
    "## Work\n",
    "1. 請嘗試將 preproc_x 替換成以每筆資料的 min/max 進行標準化至 -1 ~ 1 間，再進行訓練\n",
    "2. 請嘗試將 mlp 疊更深 (e.g 5~10 層)，進行訓練後觀察 learning curve 的走勢\n",
    "3. (optional) 請改用 GPU 進行訓練 (如果你有 GPU 的話)，比較使用 CPU 與 GPU 的訓練速度"
   ]
  },
  {
   "cell_type": "code",
   "execution_count": 27,
   "metadata": {},
   "outputs": [
    {
     "name": "stdout",
     "output_type": "stream",
     "text": [
      "Sat Jul 11 23:35:44 2020       \n",
      "+-----------------------------------------------------------------------------+\n",
      "| NVIDIA-SMI 446.14       Driver Version: 446.14       CUDA Version: 11.0     |\n",
      "|-------------------------------+----------------------+----------------------+\n",
      "| GPU  Name            TCC/WDDM | Bus-Id        Disp.A | Volatile Uncorr. ECC |\n",
      "| Fan  Temp  Perf  Pwr:Usage/Cap|         Memory-Usage | GPU-Util  Compute M. |\n",
      "|===============================+======================+======================|\n",
      "|   0  GeForce GTX 106... WDDM  | 00000000:01:00.0  On |                  N/A |\n",
      "| 12%   53C    P2    30W / 156W |   5886MiB /  6144MiB |     10%      Default |\n",
      "+-------------------------------+----------------------+----------------------+\n",
      "                                                                               \n",
      "+-----------------------------------------------------------------------------+\n",
      "| Processes:                                                                  |\n",
      "|  GPU                  PID   Type   Process name                  GPU Memory |\n",
      "|                                                                  Usage      |\n",
      "|=============================================================================|\n",
      "|    0                    8    C+G   Insufficient Permissions        N/A      |\n",
      "|    0                 4428    C+G   ...wekyb3d8bbwe\\Video.UI.exe    N/A      |\n",
      "|    0                 6000    C+G   ...y\\ShellExperienceHost.exe    N/A      |\n",
      "|    0                 6388    C+G   C:\\Windows\\explorer.exe         N/A      |\n",
      "|    0                 6868    C+G   ...artMenuExperienceHost.exe    N/A      |\n",
      "|    0                 7368    C+G   ...zf8qxf38zg5c\\SkypeApp.exe    N/A      |\n",
      "|    0                 7708    C+G   ...me\\Application\\chrome.exe    N/A      |\n",
      "|    0                 7728    C+G   ...w5n1h2txyewy\\SearchUI.exe    N/A      |\n",
      "|    0                 8620    C+G   ...perience\\NVIDIA Share.exe    N/A      |\n",
      "|    0                 9036    C+G   ...perience\\NVIDIA Share.exe    N/A      |\n",
      "|    0                11420    C+G   ...es.TextInput.InputApp.exe    N/A      |\n",
      "|    0                11436    C+G   ...lPanel\\SystemSettings.exe    N/A      |\n",
      "|    0                11584    C+G   ...3d8bbwe\\MicrosoftEdge.exe    N/A      |\n",
      "|    0                18496    C+G   ...bbwe\\PaintStudio.View.exe    N/A      |\n",
      "|    0                69204    C+G   ...kyb3d8bbwe\\Calculator.exe    N/A      |\n",
      "|    0                84324      C   D:\\Anaconda3\\python.exe         N/A      |\n",
      "|    0                95304    C+G   ...bbwe\\Microsoft.Photos.exe    N/A      |\n",
      "|    0               105880    C+G   ...4__8wekyb3d8bbwe\\Time.exe    N/A      |\n",
      "|    0               150368    C+G   ...cw5n1h2txyewy\\LockApp.exe    N/A      |\n",
      "+-----------------------------------------------------------------------------+\n"
     ]
    }
   ],
   "source": [
    "## \n",
    "\"\"\"\n",
    "Your code here (optional)\n",
    "確認硬體資源\n",
    "\"\"\"\n",
    "## 確認硬體資源 (如果你是在 Linux, 若是在 Windows, 請參考 https://blog.csdn.net/idwtwt/article/details/78017565)\n",
    "!nvidia-smi"
   ]
  },
  {
   "cell_type": "code",
   "execution_count": 18,
   "metadata": {},
   "outputs": [],
   "source": [
    "import os\n",
    "import keras\n",
    "\n",
    "# 請嘗試設定 GPU：os.environ\n",
    "os.environ[\"CUDA_VISIBLE_DEVICES\"] = \"1\""
   ]
  },
  {
   "cell_type": "code",
   "execution_count": 19,
   "metadata": {},
   "outputs": [],
   "source": [
    "train, test = keras.datasets.cifar10.load_data()"
   ]
  },
  {
   "cell_type": "code",
   "execution_count": 20,
   "metadata": {},
   "outputs": [],
   "source": [
    "## 資料前處理\n",
    "\"\"\"\n",
    "Your code here\n",
    "\"\"\"\n",
    "\n",
    "\n",
    "def preproc_x(x, flatten=True):\n",
    "    x = x / 255\n",
    "    if flatten:\n",
    "        x = x.reshape((len(x), -1))\n",
    "    return x\n",
    "\n",
    "def preproc_y(y, num_classes=10):\n",
    "    if y.shape[-1] == 1:\n",
    "        y = keras.utils.to_categorical(y, num_classes)\n",
    "    return y  "
   ]
  },
  {
   "cell_type": "code",
   "execution_count": 21,
   "metadata": {},
   "outputs": [],
   "source": [
    "x_train, y_train = train\n",
    "x_test, y_test = test\n",
    "\n",
    "# Preproc the inputs\n",
    "x_train = preproc_x(x_train)\n",
    "x_test = preproc_x(x_test)\n",
    "\n",
    "# Preprc the outputs\n",
    "y_train = preproc_y(y_train)\n",
    "y_test = preproc_y(y_test)"
   ]
  },
  {
   "cell_type": "code",
   "execution_count": 22,
   "metadata": {},
   "outputs": [],
   "source": [
    "\"\"\"Code Here\n",
    "建立你的神經網路\n",
    "\"\"\"\n",
    "def build_mlp(input_shape, output_units=10, num_neurons=[512, 256, 128]):\n",
    "    input_layer = keras.layers.Input(input_shape)\n",
    "    \n",
    "    for i, n_units in enumerate(num_neurons):\n",
    "        if i == 0:\n",
    "            x = keras.layers.Dense(units=n_units, activation=\"relu\", name=\"hidden_layer\"+str(i+1))(input_layer)\n",
    "        else:\n",
    "            x = keras.layers.Dense(units=n_units, activation=\"relu\", name=\"hidden_layer\"+str(i+2))(x)\n",
    "    out = keras.layers.Dense(units=output_units, activation=\"softmax\", name=\"output\")(x)\n",
    "    \n",
    "    model = keras.models.Model(inputs=[input_layer], outputs=[out])\n",
    "    \n",
    "    return model\n",
    "\n"
   ]
  },
  {
   "cell_type": "code",
   "execution_count": 23,
   "metadata": {},
   "outputs": [
    {
     "name": "stdout",
     "output_type": "stream",
     "text": [
      "Model: \"model_2\"\n",
      "_________________________________________________________________\n",
      "Layer (type)                 Output Shape              Param #   \n",
      "=================================================================\n",
      "input_3 (InputLayer)         (None, 3072)              0         \n",
      "_________________________________________________________________\n",
      "hidden_layer1 (Dense)        (None, 512)               1573376   \n",
      "_________________________________________________________________\n",
      "hidden_layer3 (Dense)        (None, 256)               131328    \n",
      "_________________________________________________________________\n",
      "hidden_layer4 (Dense)        (None, 128)               32896     \n",
      "_________________________________________________________________\n",
      "output (Dense)               (None, 10)                1290      \n",
      "=================================================================\n",
      "Total params: 1,738,890\n",
      "Trainable params: 1,738,890\n",
      "Non-trainable params: 0\n",
      "_________________________________________________________________\n"
     ]
    }
   ],
   "source": [
    "model = build_mlp(input_shape=x_train.shape[1:])\n",
    "model.summary()"
   ]
  },
  {
   "cell_type": "code",
   "execution_count": 24,
   "metadata": {},
   "outputs": [],
   "source": [
    "## 超參數設定\n",
    "LEARNING_RATE = 0.001\n",
    "EPOCHS = 100\n",
    "BATCH_SIZE = 256"
   ]
  },
  {
   "cell_type": "code",
   "execution_count": 25,
   "metadata": {},
   "outputs": [],
   "source": [
    "optimizer = keras.optimizers.Adam(lr=LEARNING_RATE)\n",
    "model.compile(loss=\"categorical_crossentropy\", metrics=[\"accuracy\"], optimizer=optimizer)"
   ]
  },
  {
   "cell_type": "code",
   "execution_count": 26,
   "metadata": {},
   "outputs": [
    {
     "name": "stdout",
     "output_type": "stream",
     "text": [
      "Train on 50000 samples, validate on 10000 samples\n",
      "Epoch 1/100\n",
      "50000/50000 [==============================] - 3s 50us/step - loss: 1.9306 - accuracy: 0.3032 - val_loss: 1.7613 - val_accuracy: 0.3764\n",
      "Epoch 2/100\n",
      "50000/50000 [==============================] - 2s 48us/step - loss: 1.7016 - accuracy: 0.3916 - val_loss: 1.6510 - val_accuracy: 0.4159\n",
      "Epoch 3/100\n",
      "50000/50000 [==============================] - 2s 48us/step - loss: 1.6076 - accuracy: 0.4291 - val_loss: 1.6010 - val_accuracy: 0.4232\n",
      "Epoch 4/100\n",
      "50000/50000 [==============================] - 2s 49us/step - loss: 1.5389 - accuracy: 0.4509 - val_loss: 1.5973 - val_accuracy: 0.4244\n",
      "Epoch 5/100\n",
      "50000/50000 [==============================] - 2s 48us/step - loss: 1.4983 - accuracy: 0.4662 - val_loss: 1.5058 - val_accuracy: 0.4587\n",
      "Epoch 6/100\n",
      "50000/50000 [==============================] - 2s 48us/step - loss: 1.4626 - accuracy: 0.4796 - val_loss: 1.5021 - val_accuracy: 0.4680\n",
      "Epoch 7/100\n",
      "50000/50000 [==============================] - 2s 47us/step - loss: 1.4395 - accuracy: 0.4895 - val_loss: 1.4407 - val_accuracy: 0.4900\n",
      "Epoch 8/100\n",
      "50000/50000 [==============================] - 2s 48us/step - loss: 1.3930 - accuracy: 0.5033 - val_loss: 1.4994 - val_accuracy: 0.4627\n",
      "Epoch 9/100\n",
      "50000/50000 [==============================] - 2s 47us/step - loss: 1.3740 - accuracy: 0.5097 - val_loss: 1.4497 - val_accuracy: 0.4840\n",
      "Epoch 10/100\n",
      "50000/50000 [==============================] - 2s 47us/step - loss: 1.3487 - accuracy: 0.5197 - val_loss: 1.4725 - val_accuracy: 0.4817\n",
      "Epoch 11/100\n",
      "50000/50000 [==============================] - 2s 48us/step - loss: 1.3183 - accuracy: 0.5286 - val_loss: 1.4412 - val_accuracy: 0.4954\n",
      "Epoch 12/100\n",
      "50000/50000 [==============================] - 2s 48us/step - loss: 1.2976 - accuracy: 0.5371 - val_loss: 1.4108 - val_accuracy: 0.5007\n",
      "Epoch 13/100\n",
      "50000/50000 [==============================] - 2s 48us/step - loss: 1.2738 - accuracy: 0.5475 - val_loss: 1.3810 - val_accuracy: 0.5062\n",
      "Epoch 14/100\n",
      "50000/50000 [==============================] - 2s 48us/step - loss: 1.2493 - accuracy: 0.5542 - val_loss: 1.4121 - val_accuracy: 0.5041\n",
      "Epoch 15/100\n",
      "50000/50000 [==============================] - 2s 48us/step - loss: 1.2277 - accuracy: 0.5628 - val_loss: 1.3621 - val_accuracy: 0.5183\n",
      "Epoch 16/100\n",
      "50000/50000 [==============================] - 2s 47us/step - loss: 1.2058 - accuracy: 0.5689 - val_loss: 1.3604 - val_accuracy: 0.5223\n",
      "Epoch 17/100\n",
      "50000/50000 [==============================] - 2s 49us/step - loss: 1.1799 - accuracy: 0.5787 - val_loss: 1.3752 - val_accuracy: 0.5218\n",
      "Epoch 18/100\n",
      "50000/50000 [==============================] - 2s 48us/step - loss: 1.1685 - accuracy: 0.5835 - val_loss: 1.3525 - val_accuracy: 0.5196\n",
      "Epoch 19/100\n",
      "50000/50000 [==============================] - 2s 48us/step - loss: 1.1436 - accuracy: 0.5923 - val_loss: 1.4044 - val_accuracy: 0.5135\n",
      "Epoch 20/100\n",
      "50000/50000 [==============================] - 2s 48us/step - loss: 1.1317 - accuracy: 0.5969 - val_loss: 1.4047 - val_accuracy: 0.5074\n",
      "Epoch 21/100\n",
      "50000/50000 [==============================] - 2s 48us/step - loss: 1.1135 - accuracy: 0.6032 - val_loss: 1.3854 - val_accuracy: 0.5259\n",
      "Epoch 22/100\n",
      "50000/50000 [==============================] - 2s 50us/step - loss: 1.0865 - accuracy: 0.6153 - val_loss: 1.3793 - val_accuracy: 0.5244\n",
      "Epoch 23/100\n",
      "50000/50000 [==============================] - 2s 48us/step - loss: 1.0822 - accuracy: 0.6132 - val_loss: 1.3731 - val_accuracy: 0.5284\n",
      "Epoch 24/100\n",
      "50000/50000 [==============================] - 2s 48us/step - loss: 1.0535 - accuracy: 0.6256 - val_loss: 1.3910 - val_accuracy: 0.5251\n",
      "Epoch 25/100\n",
      "50000/50000 [==============================] - 2s 48us/step - loss: 1.0403 - accuracy: 0.6272 - val_loss: 1.4024 - val_accuracy: 0.5199\n",
      "Epoch 26/100\n",
      "50000/50000 [==============================] - 2s 48us/step - loss: 1.0102 - accuracy: 0.6408 - val_loss: 1.4119 - val_accuracy: 0.5230\n",
      "Epoch 27/100\n",
      "50000/50000 [==============================] - 2s 48us/step - loss: 1.0043 - accuracy: 0.6405 - val_loss: 1.3879 - val_accuracy: 0.5296\n",
      "Epoch 28/100\n",
      "50000/50000 [==============================] - 2s 49us/step - loss: 0.9824 - accuracy: 0.6503 - val_loss: 1.4290 - val_accuracy: 0.5153\n",
      "Epoch 29/100\n",
      "50000/50000 [==============================] - 2s 48us/step - loss: 0.9688 - accuracy: 0.6530 - val_loss: 1.4184 - val_accuracy: 0.5201\n",
      "Epoch 30/100\n",
      "50000/50000 [==============================] - 2s 47us/step - loss: 0.9566 - accuracy: 0.6583 - val_loss: 1.4349 - val_accuracy: 0.5281\n",
      "Epoch 31/100\n",
      "50000/50000 [==============================] - 2s 48us/step - loss: 0.9253 - accuracy: 0.6713 - val_loss: 1.4495 - val_accuracy: 0.5224\n",
      "Epoch 32/100\n",
      "50000/50000 [==============================] - 2s 50us/step - loss: 0.9187 - accuracy: 0.6712 - val_loss: 1.4659 - val_accuracy: 0.5189\n",
      "Epoch 33/100\n",
      "50000/50000 [==============================] - 2s 49us/step - loss: 0.9087 - accuracy: 0.6743 - val_loss: 1.5292 - val_accuracy: 0.5132\n",
      "Epoch 34/100\n",
      "50000/50000 [==============================] - 2s 47us/step - loss: 0.8735 - accuracy: 0.6881 - val_loss: 1.4578 - val_accuracy: 0.5274\n",
      "Epoch 35/100\n",
      "50000/50000 [==============================] - 2s 49us/step - loss: 0.8645 - accuracy: 0.6906 - val_loss: 1.4754 - val_accuracy: 0.5340\n",
      "Epoch 36/100\n",
      "50000/50000 [==============================] - 2s 48us/step - loss: 0.8493 - accuracy: 0.6973 - val_loss: 1.5044 - val_accuracy: 0.5282\n",
      "Epoch 37/100\n",
      "50000/50000 [==============================] - 2s 48us/step - loss: 0.8202 - accuracy: 0.7072 - val_loss: 1.5293 - val_accuracy: 0.5217\n",
      "Epoch 38/100\n",
      "50000/50000 [==============================] - 2s 48us/step - loss: 0.8141 - accuracy: 0.7086 - val_loss: 1.5754 - val_accuracy: 0.5208\n",
      "Epoch 39/100\n",
      "50000/50000 [==============================] - 2s 49us/step - loss: 0.8046 - accuracy: 0.7116 - val_loss: 1.5575 - val_accuracy: 0.5239\n",
      "Epoch 40/100\n",
      "50000/50000 [==============================] - 2s 48us/step - loss: 0.7904 - accuracy: 0.7167 - val_loss: 1.5421 - val_accuracy: 0.5183\n",
      "Epoch 41/100\n",
      "50000/50000 [==============================] - 2s 49us/step - loss: 0.7885 - accuracy: 0.7158 - val_loss: 1.5715 - val_accuracy: 0.5289\n",
      "Epoch 42/100\n",
      "50000/50000 [==============================] - 2s 48us/step - loss: 0.7487 - accuracy: 0.7317 - val_loss: 1.5942 - val_accuracy: 0.5203\n",
      "Epoch 43/100\n",
      "50000/50000 [==============================] - 2s 48us/step - loss: 0.7400 - accuracy: 0.7355 - val_loss: 1.6319 - val_accuracy: 0.5233\n",
      "Epoch 44/100\n",
      "50000/50000 [==============================] - 2s 47us/step - loss: 0.7368 - accuracy: 0.7366 - val_loss: 1.6638 - val_accuracy: 0.5169\n",
      "Epoch 45/100\n",
      "50000/50000 [==============================] - 2s 47us/step - loss: 0.7139 - accuracy: 0.7447 - val_loss: 1.6282 - val_accuracy: 0.5224\n",
      "Epoch 46/100\n",
      "50000/50000 [==============================] - 2s 49us/step - loss: 0.7065 - accuracy: 0.7476 - val_loss: 1.6635 - val_accuracy: 0.5254\n",
      "Epoch 47/100\n",
      "50000/50000 [==============================] - 2s 48us/step - loss: 0.6787 - accuracy: 0.7556 - val_loss: 1.8058 - val_accuracy: 0.5083\n",
      "Epoch 48/100\n",
      "50000/50000 [==============================] - 3s 52us/step - loss: 0.6729 - accuracy: 0.7606 - val_loss: 1.7079 - val_accuracy: 0.5243\n",
      "Epoch 49/100\n",
      "50000/50000 [==============================] - 2s 48us/step - loss: 0.6712 - accuracy: 0.7598 - val_loss: 1.7455 - val_accuracy: 0.5233\n",
      "Epoch 50/100\n",
      "50000/50000 [==============================] - 2s 47us/step - loss: 0.6381 - accuracy: 0.7704 - val_loss: 1.8356 - val_accuracy: 0.5160\n",
      "Epoch 51/100\n",
      "50000/50000 [==============================] - 2s 47us/step - loss: 0.6535 - accuracy: 0.7673 - val_loss: 1.7558 - val_accuracy: 0.5195\n",
      "Epoch 52/100\n",
      "50000/50000 [==============================] - 2s 47us/step - loss: 0.6192 - accuracy: 0.7785 - val_loss: 1.8336 - val_accuracy: 0.5214\n",
      "Epoch 53/100\n",
      "50000/50000 [==============================] - 3s 51us/step - loss: 0.6210 - accuracy: 0.7778 - val_loss: 1.8646 - val_accuracy: 0.5190\n",
      "Epoch 54/100\n",
      "50000/50000 [==============================] - 2s 49us/step - loss: 0.6062 - accuracy: 0.7844 - val_loss: 1.8501 - val_accuracy: 0.5208\n",
      "Epoch 55/100\n",
      "50000/50000 [==============================] - 3s 51us/step - loss: 0.5955 - accuracy: 0.7877 - val_loss: 1.8684 - val_accuracy: 0.5200\n"
     ]
    },
    {
     "name": "stdout",
     "output_type": "stream",
     "text": [
      "Epoch 56/100\n",
      "50000/50000 [==============================] - 2s 48us/step - loss: 0.5713 - accuracy: 0.7932 - val_loss: 1.9635 - val_accuracy: 0.5158\n",
      "Epoch 57/100\n",
      "50000/50000 [==============================] - 2s 48us/step - loss: 0.5783 - accuracy: 0.7919 - val_loss: 1.8850 - val_accuracy: 0.5140\n",
      "Epoch 58/100\n",
      "50000/50000 [==============================] - 3s 51us/step - loss: 0.5593 - accuracy: 0.7982 - val_loss: 2.0110 - val_accuracy: 0.5151\n",
      "Epoch 59/100\n",
      "50000/50000 [==============================] - 3s 52us/step - loss: 0.5580 - accuracy: 0.8008 - val_loss: 1.9831 - val_accuracy: 0.5105\n",
      "Epoch 60/100\n",
      "50000/50000 [==============================] - 2s 46us/step - loss: 0.5399 - accuracy: 0.8049 - val_loss: 2.0093 - val_accuracy: 0.5103\n",
      "Epoch 61/100\n",
      "50000/50000 [==============================] - 2s 47us/step - loss: 0.5164 - accuracy: 0.8158 - val_loss: 2.1382 - val_accuracy: 0.5044\n",
      "Epoch 62/100\n",
      "50000/50000 [==============================] - 2s 46us/step - loss: 0.5242 - accuracy: 0.8104 - val_loss: 2.0579 - val_accuracy: 0.5141\n",
      "Epoch 63/100\n",
      "50000/50000 [==============================] - 2s 47us/step - loss: 0.5356 - accuracy: 0.8052 - val_loss: 2.1228 - val_accuracy: 0.5186\n",
      "Epoch 64/100\n",
      "50000/50000 [==============================] - 3s 50us/step - loss: 0.5007 - accuracy: 0.8204 - val_loss: 2.1533 - val_accuracy: 0.5148\n",
      "Epoch 65/100\n",
      "50000/50000 [==============================] - 2s 48us/step - loss: 0.5101 - accuracy: 0.8167 - val_loss: 2.1651 - val_accuracy: 0.5168\n",
      "Epoch 66/100\n",
      "50000/50000 [==============================] - 2s 49us/step - loss: 0.4763 - accuracy: 0.8308 - val_loss: 2.1554 - val_accuracy: 0.5179\n",
      "Epoch 67/100\n",
      "50000/50000 [==============================] - 2s 49us/step - loss: 0.4872 - accuracy: 0.8261 - val_loss: 2.2043 - val_accuracy: 0.5024\n",
      "Epoch 68/100\n",
      "50000/50000 [==============================] - 3s 51us/step - loss: 0.4709 - accuracy: 0.8312 - val_loss: 2.3436 - val_accuracy: 0.5092\n",
      "Epoch 69/100\n",
      "50000/50000 [==============================] - 2s 50us/step - loss: 0.4744 - accuracy: 0.8274 - val_loss: 2.2216 - val_accuracy: 0.5105\n",
      "Epoch 70/100\n",
      "50000/50000 [==============================] - 2s 48us/step - loss: 0.4588 - accuracy: 0.8344 - val_loss: 2.2726 - val_accuracy: 0.5101\n",
      "Epoch 71/100\n",
      "50000/50000 [==============================] - 2s 49us/step - loss: 0.4444 - accuracy: 0.8417 - val_loss: 2.4011 - val_accuracy: 0.5083\n",
      "Epoch 72/100\n",
      "50000/50000 [==============================] - 2s 47us/step - loss: 0.4418 - accuracy: 0.8413 - val_loss: 2.3777 - val_accuracy: 0.5005\n",
      "Epoch 73/100\n",
      "50000/50000 [==============================] - 2s 49us/step - loss: 0.4305 - accuracy: 0.8449 - val_loss: 2.5122 - val_accuracy: 0.5010\n",
      "Epoch 74/100\n",
      "50000/50000 [==============================] - 2s 49us/step - loss: 0.4293 - accuracy: 0.8456 - val_loss: 2.3928 - val_accuracy: 0.5049\n",
      "Epoch 75/100\n",
      "50000/50000 [==============================] - 2s 49us/step - loss: 0.4205 - accuracy: 0.8493 - val_loss: 2.5166 - val_accuracy: 0.5029\n",
      "Epoch 76/100\n",
      "50000/50000 [==============================] - 2s 46us/step - loss: 0.4164 - accuracy: 0.8489 - val_loss: 2.5004 - val_accuracy: 0.5136\n",
      "Epoch 77/100\n",
      "50000/50000 [==============================] - 2s 47us/step - loss: 0.4023 - accuracy: 0.8551 - val_loss: 2.5098 - val_accuracy: 0.5039\n",
      "Epoch 78/100\n",
      "50000/50000 [==============================] - 2s 46us/step - loss: 0.4063 - accuracy: 0.8537 - val_loss: 2.5277 - val_accuracy: 0.5099\n",
      "Epoch 79/100\n",
      "50000/50000 [==============================] - 2s 49us/step - loss: 0.3959 - accuracy: 0.8566 - val_loss: 2.5722 - val_accuracy: 0.4979\n",
      "Epoch 80/100\n",
      "50000/50000 [==============================] - 2s 49us/step - loss: 0.3841 - accuracy: 0.8617 - val_loss: 2.6345 - val_accuracy: 0.5091\n",
      "Epoch 81/100\n",
      "50000/50000 [==============================] - 2s 48us/step - loss: 0.3941 - accuracy: 0.8571 - val_loss: 2.6163 - val_accuracy: 0.5039\n",
      "Epoch 82/100\n",
      "50000/50000 [==============================] - 2s 46us/step - loss: 0.4052 - accuracy: 0.8520 - val_loss: 2.6154 - val_accuracy: 0.5123\n",
      "Epoch 83/100\n",
      "50000/50000 [==============================] - 2s 46us/step - loss: 0.3862 - accuracy: 0.8598 - val_loss: 2.6420 - val_accuracy: 0.5082\n",
      "Epoch 84/100\n",
      "50000/50000 [==============================] - 2s 46us/step - loss: 0.3559 - accuracy: 0.8721 - val_loss: 2.7190 - val_accuracy: 0.5074\n",
      "Epoch 85/100\n",
      "50000/50000 [==============================] - 2s 48us/step - loss: 0.3367 - accuracy: 0.8795 - val_loss: 2.7674 - val_accuracy: 0.5045\n",
      "Epoch 86/100\n",
      "50000/50000 [==============================] - 2s 49us/step - loss: 0.3626 - accuracy: 0.8669 - val_loss: 2.7347 - val_accuracy: 0.5081\n",
      "Epoch 87/100\n",
      "50000/50000 [==============================] - 2s 49us/step - loss: 0.3866 - accuracy: 0.8600 - val_loss: 2.7767 - val_accuracy: 0.4994\n",
      "Epoch 88/100\n",
      "50000/50000 [==============================] - 2s 48us/step - loss: 0.3437 - accuracy: 0.8770 - val_loss: 2.8877 - val_accuracy: 0.5028\n",
      "Epoch 89/100\n",
      "50000/50000 [==============================] - 2s 48us/step - loss: 0.3301 - accuracy: 0.8822 - val_loss: 2.8932 - val_accuracy: 0.5082\n",
      "Epoch 90/100\n",
      "50000/50000 [==============================] - 2s 49us/step - loss: 0.3324 - accuracy: 0.8796 - val_loss: 3.0076 - val_accuracy: 0.5037\n",
      "Epoch 91/100\n",
      "50000/50000 [==============================] - 2s 47us/step - loss: 0.3503 - accuracy: 0.8727 - val_loss: 2.9304 - val_accuracy: 0.4986\n",
      "Epoch 92/100\n",
      "50000/50000 [==============================] - 2s 48us/step - loss: 0.3291 - accuracy: 0.8814 - val_loss: 2.9482 - val_accuracy: 0.5097\n",
      "Epoch 93/100\n",
      "50000/50000 [==============================] - 2s 47us/step - loss: 0.3248 - accuracy: 0.8828 - val_loss: 2.8962 - val_accuracy: 0.5122\n",
      "Epoch 94/100\n",
      "50000/50000 [==============================] - 2s 50us/step - loss: 0.3144 - accuracy: 0.8860 - val_loss: 3.0863 - val_accuracy: 0.5024\n",
      "Epoch 95/100\n",
      "50000/50000 [==============================] - 2s 48us/step - loss: 0.3363 - accuracy: 0.8781 - val_loss: 3.0598 - val_accuracy: 0.5060\n",
      "Epoch 96/100\n",
      "50000/50000 [==============================] - 2s 48us/step - loss: 0.2959 - accuracy: 0.8949 - val_loss: 3.1377 - val_accuracy: 0.5083\n",
      "Epoch 97/100\n",
      "50000/50000 [==============================] - 3s 55us/step - loss: 0.3237 - accuracy: 0.8810 - val_loss: 3.0767 - val_accuracy: 0.5104\n",
      "Epoch 98/100\n",
      "50000/50000 [==============================] - 2s 48us/step - loss: 0.3196 - accuracy: 0.8853 - val_loss: 3.1374 - val_accuracy: 0.4944\n",
      "Epoch 99/100\n",
      "50000/50000 [==============================] - 2s 48us/step - loss: 0.2880 - accuracy: 0.8956 - val_loss: 3.2277 - val_accuracy: 0.5013\n",
      "Epoch 100/100\n",
      "50000/50000 [==============================] - 2s 47us/step - loss: 0.3017 - accuracy: 0.8912 - val_loss: 3.1642 - val_accuracy: 0.5021\n"
     ]
    },
    {
     "data": {
      "text/plain": [
       "<keras.callbacks.callbacks.History at 0x1e5492c0e08>"
      ]
     },
     "execution_count": 26,
     "metadata": {},
     "output_type": "execute_result"
    }
   ],
   "source": [
    "model.fit(x_train, y_train, \n",
    "          epochs=EPOCHS, \n",
    "          batch_size=BATCH_SIZE, \n",
    "          validation_data=(x_test, y_test), \n",
    "          shuffle=True)"
   ]
  },
  {
   "cell_type": "code",
   "execution_count": 14,
   "metadata": {},
   "outputs": [
    {
     "data": {
      "image/png": "[encoded data removed]",
      "text/plain": [
       "<Figure size 432x288 with 1 Axes>"
      ]
     },
     "metadata": {
      "needs_background": "light"
     },
     "output_type": "display_data"
    },
    {
     "data": {
      "image/png": "[encoded data removed]",
      "text/plain": [
       "<Figure size 432x288 with 1 Axes>"
      ]
     },
     "metadata": {
      "needs_background": "light"
     },
     "output_type": "display_data"
    }
   ],
   "source": [
    "import matplotlib.pyplot as plt\n",
    "\n",
    "\n",
    "train_loss = model.history.history[\"loss\"]\n",
    "valid_loss = model.history.history[\"val_loss\"]\n",
    "\n",
    "train_acc = model.history.history[\"accuracy\"]\n",
    "valid_acc = model.history.history[\"val_accuracy\"]\n",
    "\n",
    "plt.plot(range(len(train_loss)), train_loss, label=\"train loss\")\n",
    "plt.plot(range(len(valid_loss)), valid_loss, label=\"valid loss\")\n",
    "plt.legend()\n",
    "plt.title(\"Loss\")\n",
    "plt.show()\n",
    "\n",
    "plt.plot(range(len(train_acc)), train_acc, label=\"train accuracy\")\n",
    "plt.plot(range(len(valid_acc)), valid_acc, label=\"valid accuracy\")\n",
    "plt.legend()\n",
    "plt.title(\"Accuracy\")\n",
    "plt.show()"
   ]
  },
  {
   "cell_type": "code",
   "execution_count": null,
   "metadata": {},
   "outputs": [],
   "source": []
  }
 ],
 "metadata": {
  "kernelspec": {
   "display_name": "Python 3",
   "language": "python",
   "name": "python3"
  },
  "language_info": {
   "codemirror_mode": {
    "name": "ipython",
    "version": 3
   },
   "file_extension": ".py",
   "mimetype": "text/x-python",
   "name": "python",
   "nbconvert_exporter": "python",
   "pygments_lexer": "ipython3",
   "version": "3.7.6"
  }
 },
 "nbformat": 4,
 "nbformat_minor": 2
}
