{
 "cells": [
  {
   "cell_type": "markdown",
   "metadata": {
    "collapsed": true
   },
   "source": [
    "# [作業目標]\n",
    "- 請同學試著使用 pandas.corr() 這個函數來顯示相關係數並加以觀察結果 \n",
    "- 思考1 : 使用 pandas 有沒有什麼寫法, 可以顯示欄位中最大的幾筆, 以及最小幾筆呢? (Hint: 排序後列出前幾筆/後幾筆)\n",
    "- 思考2 : 試著使用散佈圖, 顯示相關度最大/最小的特徵與目標值的關係, 如果圖形不明顯, 是否有調整的方法?"
   ]
  },
  {
   "cell_type": "markdown",
   "metadata": {
    "collapsed": true
   },
   "source": [
    "# [作業重點]\n",
    "- 綜合前幾單元的作法, 試試看是否能夠用繪圖顯示出特徵與目標的相關性"
   ]
  },
  {
   "cell_type": "code",
   "execution_count": 1,
   "metadata": {},
   "outputs": [],
   "source": [
    "# 載入需要的套件\n",
    "import os\n",
    "import numpy as np\n",
    "import pandas as pd\n",
    "import matplotlib.pyplot as plt\n",
    "%matplotlib inline\n",
    "\n",
    "# 設定 data_path\n",
    "dir_data = '/home/osboxes/Documents/Day_015_HW/'"
   ]
  },
  {
   "cell_type": "code",
   "execution_count": 2,
   "metadata": {},
   "outputs": [
    {
     "name": "stdout",
     "output_type": "stream",
     "text": [
      "(307511, 122)\n",
      "        SK_ID_CURR  TARGET NAME_CONTRACT_TYPE CODE_GENDER FLAG_OWN_CAR  \\\n",
      "0           100002       1         Cash loans           M            N   \n",
      "1           100003       0         Cash loans           F            N   \n",
      "2           100004       0    Revolving loans           M            Y   \n",
      "3           100006       0         Cash loans           F            N   \n",
      "4           100007       0         Cash loans           M            N   \n",
      "...            ...     ...                ...         ...          ...   \n",
      "307506      456251       0         Cash loans           M            N   \n",
      "307507      456252       0         Cash loans           F            N   \n",
      "307508      456253       0         Cash loans           F            N   \n",
      "307509      456254       1         Cash loans           F            N   \n",
      "307510      456255       0         Cash loans           F            N   \n",
      "\n",
      "       FLAG_OWN_REALTY  CNT_CHILDREN  AMT_INCOME_TOTAL  AMT_CREDIT  \\\n",
      "0                    Y             0          202500.0    406597.5   \n",
      "1                    N             0          270000.0   1293502.5   \n",
      "2                    Y             0           67500.0    135000.0   \n",
      "3                    Y             0          135000.0    312682.5   \n",
      "4                    Y             0          121500.0    513000.0   \n",
      "...                ...           ...               ...         ...   \n",
      "307506               N             0          157500.0    254700.0   \n",
      "307507               Y             0           72000.0    269550.0   \n",
      "307508               Y             0          153000.0    677664.0   \n",
      "307509               Y             0          171000.0    370107.0   \n",
      "307510               N             0          157500.0    675000.0   \n",
      "\n",
      "        AMT_ANNUITY  ...  FLAG_DOCUMENT_18 FLAG_DOCUMENT_19 FLAG_DOCUMENT_20  \\\n",
      "0           24700.5  ...                 0                0                0   \n",
      "1           35698.5  ...                 0                0                0   \n",
      "2            6750.0  ...                 0                0                0   \n",
      "3           29686.5  ...                 0                0                0   \n",
      "4           21865.5  ...                 0                0                0   \n",
      "...             ...  ...               ...              ...              ...   \n",
      "307506      27558.0  ...                 0                0                0   \n",
      "307507      12001.5  ...                 0                0                0   \n",
      "307508      29979.0  ...                 0                0                0   \n",
      "307509      20205.0  ...                 0                0                0   \n",
      "307510      49117.5  ...                 0                0                0   \n",
      "\n",
      "       FLAG_DOCUMENT_21 AMT_REQ_CREDIT_BUREAU_HOUR AMT_REQ_CREDIT_BUREAU_DAY  \\\n",
      "0                     0                        0.0                       0.0   \n",
      "1                     0                        0.0                       0.0   \n",
      "2                     0                        0.0                       0.0   \n",
      "3                     0                        NaN                       NaN   \n",
      "4                     0                        0.0                       0.0   \n",
      "...                 ...                        ...                       ...   \n",
      "307506                0                        NaN                       NaN   \n",
      "307507                0                        NaN                       NaN   \n",
      "307508                0                        1.0                       0.0   \n",
      "307509                0                        0.0                       0.0   \n",
      "307510                0                        0.0                       0.0   \n",
      "\n",
      "        AMT_REQ_CREDIT_BUREAU_WEEK  AMT_REQ_CREDIT_BUREAU_MON  \\\n",
      "0                              0.0                        0.0   \n",
      "1                              0.0                        0.0   \n",
      "2                              0.0                        0.0   \n",
      "3                              NaN                        NaN   \n",
      "4                              0.0                        0.0   \n",
      "...                            ...                        ...   \n",
      "307506                         NaN                        NaN   \n",
      "307507                         NaN                        NaN   \n",
      "307508                         0.0                        1.0   \n",
      "307509                         0.0                        0.0   \n",
      "307510                         0.0                        2.0   \n",
      "\n",
      "        AMT_REQ_CREDIT_BUREAU_QRT  AMT_REQ_CREDIT_BUREAU_YEAR  \n",
      "0                             0.0                         1.0  \n",
      "1                             0.0                         0.0  \n",
      "2                             0.0                         0.0  \n",
      "3                             NaN                         NaN  \n",
      "4                             0.0                         0.0  \n",
      "...                           ...                         ...  \n",
      "307506                        NaN                         NaN  \n",
      "307507                        NaN                         NaN  \n",
      "307508                        0.0                         1.0  \n",
      "307509                        0.0                         0.0  \n",
      "307510                        0.0                         1.0  \n",
      "\n",
      "[307511 rows x 122 columns]\n"
     ]
    }
   ],
   "source": [
    "# 讀取資料檔\n",
    "f_app_train = os.path.join(dir_data, 'application_train.csv')\n",
    "app_train = pd.read_csv(f_app_train)\n",
    "print(app_train.shape)\n",
    "print(app_train)"
   ]
  },
  {
   "cell_type": "code",
   "execution_count": 3,
   "metadata": {},
   "outputs": [
    {
     "name": "stdout",
     "output_type": "stream",
     "text": [
      "NAME_CONTRACT_TYPE\n",
      "GGG: 0              Cash loans\n",
      "1              Cash loans\n",
      "2         Revolving loans\n",
      "3              Cash loans\n",
      "4              Cash loans\n",
      "               ...       \n",
      "307506         Cash loans\n",
      "307507         Cash loans\n",
      "307508         Cash loans\n",
      "307509         Cash loans\n",
      "307510         Cash loans\n",
      "Name: NAME_CONTRACT_TYPE, Length: 307511, dtype: object\n",
      "CODE_GENDER\n",
      "FLAG_OWN_CAR\n",
      "GGG: 0         N\n",
      "1         N\n",
      "2         Y\n",
      "3         N\n",
      "4         N\n",
      "         ..\n",
      "307506    N\n",
      "307507    N\n",
      "307508    N\n",
      "307509    N\n",
      "307510    N\n",
      "Name: FLAG_OWN_CAR, Length: 307511, dtype: object\n",
      "FLAG_OWN_REALTY\n",
      "GGG: 0         Y\n",
      "1         N\n",
      "2         Y\n",
      "3         Y\n",
      "4         Y\n",
      "         ..\n",
      "307506    N\n",
      "307507    Y\n",
      "307508    Y\n",
      "307509    Y\n",
      "307510    N\n",
      "Name: FLAG_OWN_REALTY, Length: 307511, dtype: object\n",
      "NAME_TYPE_SUITE\n",
      "NAME_INCOME_TYPE\n",
      "NAME_EDUCATION_TYPE\n",
      "NAME_FAMILY_STATUS\n",
      "NAME_HOUSING_TYPE\n",
      "OCCUPATION_TYPE\n",
      "WEEKDAY_APPR_PROCESS_START\n",
      "ORGANIZATION_TYPE\n",
      "FONDKAPREMONT_MODE\n",
      "HOUSETYPE_MODE\n",
      "WALLSMATERIAL_MODE\n",
      "EMERGENCYSTATE_MODE\n",
      "(307511, 122)\n",
      "   SK_ID_CURR  TARGET  NAME_CONTRACT_TYPE CODE_GENDER  FLAG_OWN_CAR  \\\n",
      "0      100002       1                   0           M             0   \n",
      "1      100003       0                   0           F             0   \n",
      "2      100004       0                   1           M             1   \n",
      "3      100006       0                   0           F             0   \n",
      "4      100007       0                   0           M             0   \n",
      "\n",
      "   FLAG_OWN_REALTY  CNT_CHILDREN  AMT_INCOME_TOTAL  AMT_CREDIT  AMT_ANNUITY  \\\n",
      "0                1             0          202500.0    406597.5      24700.5   \n",
      "1                0             0          270000.0   1293502.5      35698.5   \n",
      "2                1             0           67500.0    135000.0       6750.0   \n",
      "3                1             0          135000.0    312682.5      29686.5   \n",
      "4                1             0          121500.0    513000.0      21865.5   \n",
      "\n",
      "   ...  FLAG_DOCUMENT_18 FLAG_DOCUMENT_19 FLAG_DOCUMENT_20 FLAG_DOCUMENT_21  \\\n",
      "0  ...                 0                0                0                0   \n",
      "1  ...                 0                0                0                0   \n",
      "2  ...                 0                0                0                0   \n",
      "3  ...                 0                0                0                0   \n",
      "4  ...                 0                0                0                0   \n",
      "\n",
      "  AMT_REQ_CREDIT_BUREAU_HOUR AMT_REQ_CREDIT_BUREAU_DAY  \\\n",
      "0                        0.0                       0.0   \n",
      "1                        0.0                       0.0   \n",
      "2                        0.0                       0.0   \n",
      "3                        NaN                       NaN   \n",
      "4                        0.0                       0.0   \n",
      "\n",
      "   AMT_REQ_CREDIT_BUREAU_WEEK  AMT_REQ_CREDIT_BUREAU_MON  \\\n",
      "0                         0.0                        0.0   \n",
      "1                         0.0                        0.0   \n",
      "2                         0.0                        0.0   \n",
      "3                         NaN                        NaN   \n",
      "4                         0.0                        0.0   \n",
      "\n",
      "   AMT_REQ_CREDIT_BUREAU_QRT  AMT_REQ_CREDIT_BUREAU_YEAR  \n",
      "0                        0.0                         1.0  \n",
      "1                        0.0                         0.0  \n",
      "2                        0.0                         0.0  \n",
      "3                        NaN                         NaN  \n",
      "4                        0.0                         0.0  \n",
      "\n",
      "[5 rows x 122 columns]\n"
     ]
    }
   ],
   "source": [
    "# 將只有兩種值的類別型欄位, 做 Label Encoder, 計算相關係數時讓這些欄位可以被包含在內\n",
    "from sklearn.preprocessing import LabelEncoder\n",
    "le = LabelEncoder()\n",
    "\n",
    "# 檢查每一個 column\n",
    "for col in app_train:\n",
    "    if app_train[col].dtype == 'object':\n",
    "        # 如果只有兩種值的類別型欄位\n",
    "        print(col)\n",
    "        if len(list(app_train[col].unique())) <= 2:\n",
    "            # 就做 Label Encoder, 以加入相關係數檢查\n",
    "            print(\"GGG:\", app_train[col])\n",
    "            app_train[col] = le.fit_transform(app_train[col])\n",
    "            \n",
    "print(app_train.shape)\n",
    "print(app_train.head())"
   ]
  },
  {
   "cell_type": "code",
   "execution_count": 4,
   "metadata": {},
   "outputs": [
    {
     "name": "stdout",
     "output_type": "stream",
     "text": [
      "0           -637\n",
      "1          -1188\n",
      "2           -225\n",
      "3          -3039\n",
      "4          -3038\n",
      "           ...  \n",
      "307506      -236\n",
      "307507    365243\n",
      "307508     -7921\n",
      "307509     -4786\n",
      "307510     -1262\n",
      "Name: DAYS_EMPLOYED, Length: 307511, dtype: int64\n"
     ]
    }
   ],
   "source": [
    "print(app_train[\"DAYS_EMPLOYED\"])"
   ]
  },
  {
   "cell_type": "code",
   "execution_count": 5,
   "metadata": {},
   "outputs": [
    {
     "name": "stdout",
     "output_type": "stream",
     "text": [
      "0         -637.0\n",
      "1        -1188.0\n",
      "2         -225.0\n",
      "3        -3039.0\n",
      "4        -3038.0\n",
      "           ...  \n",
      "307506    -236.0\n",
      "307507       NaN\n",
      "307508   -7921.0\n",
      "307509   -4786.0\n",
      "307510   -1262.0\n",
      "Name: DAYS_EMPLOYED, Length: 307511, dtype: float64\n"
     ]
    }
   ],
   "source": [
    "# 受雇日數為異常值的資料, 另外設一個欄位記錄, 並將異常的日數轉成空值 (np.nan)\n",
    "app_train['DAYS_EMPLOYED_ANOM'] = app_train[\"DAYS_EMPLOYED\"] == 365243\n",
    "app_train['DAYS_EMPLOYED'].replace({365243: np.nan}, inplace = True)\n",
    "\n",
    "# 出生日數 (DAYS_BIRTH) 取絕對值 \n",
    "app_train['DAYS_BIRTH'] = abs(app_train['DAYS_BIRTH'])\n",
    "print(app_train['DAYS_EMPLOYED'])"
   ]
  },
  {
   "cell_type": "markdown",
   "metadata": {},
   "source": [
    "### 相關係數\n",
    "一樣，pandas 很貼心地讓我們可以非常容易計算相關係數"
   ]
  },
  {
   "cell_type": "code",
   "execution_count": 6,
   "metadata": {},
   "outputs": [
    {
     "data": {
      "text/plain": [
       "SK_ID_CURR                   -0.002108\n",
       "TARGET                        1.000000\n",
       "NAME_CONTRACT_TYPE           -0.030896\n",
       "FLAG_OWN_CAR                 -0.021851\n",
       "FLAG_OWN_REALTY              -0.006148\n",
       "                                ...   \n",
       "AMT_REQ_CREDIT_BUREAU_WEEK    0.000788\n",
       "AMT_REQ_CREDIT_BUREAU_MON    -0.012462\n",
       "AMT_REQ_CREDIT_BUREAU_QRT    -0.002022\n",
       "AMT_REQ_CREDIT_BUREAU_YEAR    0.019930\n",
       "DAYS_EMPLOYED_ANOM           -0.045987\n",
       "Name: TARGET, Length: 110, dtype: float64"
      ]
     },
     "execution_count": 6,
     "metadata": {},
     "output_type": "execute_result"
    }
   ],
   "source": [
    "# 觀察相關係數\n",
    "app_train_target = app_train.corr()['TARGET']\n",
    "app_train.corr()['TARGET']"
   ]
  },
  {
   "cell_type": "markdown",
   "metadata": {},
   "source": [
    "## 練習時間\n",
    "列出目標 (TARGET) 與所有欄位之間相關係數，數值最大以及最小各 15 個\n",
    "\n",
    "通過相關係數的結果觀察有興趣的欄位與 TARGET 或其他欄位的相關係數，並嘗試找出有趣的訊息\n",
    "- 最好的方式當然是畫圖，舉例來說，我們知道  EXT_SOURCE_3 這個欄位和 TARGET 之間的相關係數是 -0.178919 (在已經這個資料集已經是最負的了！)，那我們可以 EXT_SOURCE_3  為 x 軸， TARGET 為 y 軸，把資料給畫出來"
   ]
  },
  {
   "cell_type": "code",
   "execution_count": 7,
   "metadata": {},
   "outputs": [
    {
     "name": "stdout",
     "output_type": "stream",
     "text": [
      "SK_ID_CURR                   -0.002108\n",
      "TARGET                        1.000000\n",
      "NAME_CONTRACT_TYPE           -0.030896\n",
      "FLAG_OWN_CAR                 -0.021851\n",
      "FLAG_OWN_REALTY              -0.006148\n",
      "                                ...   \n",
      "AMT_REQ_CREDIT_BUREAU_WEEK    0.000788\n",
      "AMT_REQ_CREDIT_BUREAU_MON    -0.012462\n",
      "AMT_REQ_CREDIT_BUREAU_QRT    -0.002022\n",
      "AMT_REQ_CREDIT_BUREAU_YEAR    0.019930\n",
      "DAYS_EMPLOYED_ANOM           -0.045987\n",
      "Name: TARGET, Length: 110, dtype: float64\n",
      "EXT_SOURCE_3                  -0.178919\n",
      "EXT_SOURCE_2                  -0.160472\n",
      "EXT_SOURCE_1                  -0.155317\n",
      "DAYS_BIRTH                    -0.078239\n",
      "DAYS_EMPLOYED_ANOM            -0.045987\n",
      "                                 ...   \n",
      "DAYS_LAST_PHONE_CHANGE         0.055218\n",
      "REGION_RATING_CLIENT           0.058899\n",
      "REGION_RATING_CLIENT_W_CITY    0.060893\n",
      "DAYS_EMPLOYED                  0.074958\n",
      "TARGET                         1.000000\n",
      "Name: TARGET, Length: 110, dtype: float64\n"
     ]
    }
   ],
   "source": [
    "print(app_train_target)\n",
    "app_train_target = app_train_target.sort_values()\n",
    "print(app_train_target)"
   ]
  },
  {
   "cell_type": "code",
   "execution_count": 8,
   "metadata": {},
   "outputs": [
    {
     "name": "stdout",
     "output_type": "stream",
     "text": [
      "DEF_60_CNT_SOCIAL_CIRCLE       0.031276\n",
      "DEF_30_CNT_SOCIAL_CIRCLE       0.032248\n",
      "LIVE_CITY_NOT_WORK_CITY        0.032518\n",
      "OWN_CAR_AGE                    0.037612\n",
      "DAYS_REGISTRATION              0.041975\n",
      "FLAG_DOCUMENT_3                0.044346\n",
      "REG_CITY_NOT_LIVE_CITY         0.044395\n",
      "FLAG_EMP_PHONE                 0.045982\n",
      "REG_CITY_NOT_WORK_CITY         0.050994\n",
      "DAYS_ID_PUBLISH                0.051457\n",
      "DAYS_LAST_PHONE_CHANGE         0.055218\n",
      "REGION_RATING_CLIENT           0.058899\n",
      "REGION_RATING_CLIENT_W_CITY    0.060893\n",
      "DAYS_EMPLOYED                  0.074958\n",
      "TARGET                         1.000000\n",
      "Name: TARGET, dtype: float64\n",
      "EXT_SOURCE_3                 -0.178919\n",
      "EXT_SOURCE_2                 -0.160472\n",
      "EXT_SOURCE_1                 -0.155317\n",
      "DAYS_BIRTH                   -0.078239\n",
      "DAYS_EMPLOYED_ANOM           -0.045987\n",
      "FLOORSMAX_AVG                -0.044003\n",
      "FLOORSMAX_MEDI               -0.043768\n",
      "FLOORSMAX_MODE               -0.043226\n",
      "AMT_GOODS_PRICE              -0.039645\n",
      "REGION_POPULATION_RELATIVE   -0.037227\n",
      "ELEVATORS_AVG                -0.034199\n",
      "ELEVATORS_MEDI               -0.033863\n",
      "FLOORSMIN_AVG                -0.033614\n",
      "FLOORSMIN_MEDI               -0.033394\n",
      "LIVINGAREA_AVG               -0.032997\n",
      "Name: TARGET, dtype: float64\n"
     ]
    }
   ],
   "source": [
    "app_train_target_max = app_train_target.tail(15)\n",
    "app_train_target_min = app_train_target.head(15)\n",
    "print(app_train_target_max)\n",
    "print(app_train_target_min)"
   ]
  },
  {
   "cell_type": "code",
   "execution_count": 10,
   "metadata": {},
   "outputs": [
    {
     "data": {
      "text/plain": [
       "<matplotlib.collections.PathCollection at 0x7f4f895c0410>"
      ]
     },
     "execution_count": 10,
     "metadata": {},
     "output_type": "execute_result"
    },
    {
     "data": {
      "image/png": "[encoded data removed]",
      "text/plain": [
       "<Figure size 432x288 with 1 Axes>"
      ]
     },
     "metadata": {
      "needs_background": "light"
     },
     "output_type": "display_data"
    }
   ],
   "source": [
    "plt.scatter(app_train['EXT_SOURCE_3'], app_train['TARGET'])"
   ]
  },
  {
   "cell_type": "code",
   "execution_count": 11,
   "metadata": {},
   "outputs": [
    {
     "data": {
      "text/plain": [
       "<matplotlib.axes._subplots.AxesSubplot at 0x7f4fb81769d0>"
      ]
     },
     "execution_count": 11,
     "metadata": {},
     "output_type": "execute_result"
    },
    {
     "data": {
      "image/png": "[encoded data removed]",
      "text/plain": [
       "<Figure size 432x288 with 1 Axes>"
      ]
     },
     "metadata": {
      "needs_background": "light"
     },
     "output_type": "display_data"
    }
   ],
   "source": [
    "app_train.boxplot(by='TARGET', column = 'EXT_SOURCE_3')"
   ]
  },
  {
   "cell_type": "code",
   "execution_count": null,
   "metadata": {},
   "outputs": [],
   "source": []
  }
 ],
 "metadata": {
  "kernelspec": {
   "display_name": "Python 3",
   "language": "python",
   "name": "python3"
  },
  "language_info": {
   "codemirror_mode": {
    "name": "ipython",
    "version": 3
   },
   "file_extension": ".py",
   "mimetype": "text/x-python",
   "name": "python",
   "nbconvert_exporter": "python",
   "pygments_lexer": "ipython3",
   "version": "3.7.4"
  }
 },
 "nbformat": 4,
 "nbformat_minor": 2
}
