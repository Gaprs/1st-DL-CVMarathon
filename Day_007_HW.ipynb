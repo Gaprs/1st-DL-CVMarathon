{
 "cells": [
  {
   "cell_type": "markdown",
   "metadata": {
    "collapsed": true
   },
   "source": [
    "# 作業 : (Kaggle)鐵達尼生存預測"
   ]
  },
  {
   "cell_type": "markdown",
   "metadata": {},
   "source": [
    "# [作業目標]\n",
    "- 試著完成三種不同特徵類型的三種資料操作, 觀察結果\n",
    "- 思考一下, 這三種特徵類型, 哪一種應該最複雜/最難處理"
   ]
  },
  {
   "cell_type": "markdown",
   "metadata": {},
   "source": [
    "# [作業重點]\n",
    "- 完成剩餘的八種 類型 x 操作組合 (In[6]~In[13], Out[6]~Out[13])\n",
    "- 思考何種特徵類型, 應該最複雜"
   ]
  },
  {
   "cell_type": "code",
   "execution_count": 44,
   "metadata": {},
   "outputs": [
    {
     "data": {
      "text/plain": [
       "(891, 12)"
      ]
     },
     "execution_count": 44,
     "metadata": {},
     "output_type": "execute_result"
    }
   ],
   "source": [
    "# 載入基本套件\n",
    "import pandas as pd\n",
    "import numpy as np\n",
    "\n",
    "# 讀取訓練與測試資料\n",
    "data_path = '/home/osboxes/Documents/Day_007_HW/'\n",
    "df_train = pd.read_csv(data_path + 'titanic_train.csv')\n",
    "df_test = pd.read_csv(data_path + 'titanic_test.csv')\n",
    "df_train.shape"
   ]
  },
  {
   "cell_type": "code",
   "execution_count": 45,
   "metadata": {},
   "outputs": [
    {
     "name": "stdout",
     "output_type": "stream",
     "text": [
      "     Pclass                                               Name     Sex   Age  \\\n",
      "0         3                            Braund, Mr. Owen Harris    male  22.0   \n",
      "1         1  Cumings, Mrs. John Bradley (Florence Briggs Th...  female  38.0   \n",
      "2         3                             Heikkinen, Miss. Laina  female  26.0   \n",
      "3         1       Futrelle, Mrs. Jacques Heath (Lily May Peel)  female  35.0   \n",
      "4         3                           Allen, Mr. William Henry    male  35.0   \n",
      "..      ...                                                ...     ...   ...   \n",
      "886       2                              Montvila, Rev. Juozas    male  27.0   \n",
      "887       1                       Graham, Miss. Margaret Edith  female  19.0   \n",
      "888       3           Johnston, Miss. Catherine Helen \"Carrie\"  female   NaN   \n",
      "889       1                              Behr, Mr. Karl Howell    male  26.0   \n",
      "890       3                                Dooley, Mr. Patrick    male  32.0   \n",
      "\n",
      "     SibSp  Parch            Ticket     Fare Cabin Embarked  \n",
      "0        1      0         A/5 21171   7.2500   NaN        S  \n",
      "1        1      0          PC 17599  71.2833   C85        C  \n",
      "2        0      0  STON/O2. 3101282   7.9250   NaN        S  \n",
      "3        1      0            113803  53.1000  C123        S  \n",
      "4        0      0            373450   8.0500   NaN        S  \n",
      "..     ...    ...               ...      ...   ...      ...  \n",
      "886      0      0            211536  13.0000   NaN        S  \n",
      "887      0      0            112053  30.0000   B42        S  \n",
      "888      1      2        W./C. 6607  23.4500   NaN        S  \n",
      "889      0      0            111369  30.0000  C148        C  \n",
      "890      0      0            370376   7.7500   NaN        Q  \n",
      "\n",
      "[891 rows x 10 columns]\n",
      "     Pclass                                          Name     Sex   Age  \\\n",
      "0         3                              Kelly, Mr. James    male  34.5   \n",
      "1         3              Wilkes, Mrs. James (Ellen Needs)  female  47.0   \n",
      "2         2                     Myles, Mr. Thomas Francis    male  62.0   \n",
      "3         3                              Wirz, Mr. Albert    male  27.0   \n",
      "4         3  Hirvonen, Mrs. Alexander (Helga E Lindqvist)  female  22.0   \n",
      "..      ...                                           ...     ...   ...   \n",
      "413       3                            Spector, Mr. Woolf    male   NaN   \n",
      "414       1                  Oliva y Ocana, Dona. Fermina  female  39.0   \n",
      "415       3                  Saether, Mr. Simon Sivertsen    male  38.5   \n",
      "416       3                           Ware, Mr. Frederick    male   NaN   \n",
      "417       3                      Peter, Master. Michael J    male   NaN   \n",
      "\n",
      "     SibSp  Parch              Ticket      Fare Cabin Embarked  \n",
      "0        0      0              330911    7.8292   NaN        Q  \n",
      "1        1      0              363272    7.0000   NaN        S  \n",
      "2        0      0              240276    9.6875   NaN        Q  \n",
      "3        0      0              315154    8.6625   NaN        S  \n",
      "4        1      1             3101298   12.2875   NaN        S  \n",
      "..     ...    ...                 ...       ...   ...      ...  \n",
      "413      0      0           A.5. 3236    8.0500   NaN        S  \n",
      "414      0      0            PC 17758  108.9000  C105        C  \n",
      "415      0      0  SOTON/O.Q. 3101262    7.2500   NaN        S  \n",
      "416      0      0              359309    8.0500   NaN        S  \n",
      "417      1      1                2668   22.3583   NaN        C  \n",
      "\n",
      "[418 rows x 10 columns]\n"
     ]
    }
   ],
   "source": [
    "# 重組資料成為訓練 / 預測用格式\n",
    "train_Y = df_train['Survived']\n",
    "ids = df_test['PassengerId']\n",
    "df_train = df_train.drop(['PassengerId', 'Survived'] , axis=1)\n",
    "df_test = df_test.drop(['PassengerId'] , axis=1)\n",
    "df = pd.concat([df_train,df_test])\n",
    "df.head()\n",
    "print(df_train)\n",
    "print(df_test)"
   ]
  },
  {
   "cell_type": "code",
   "execution_count": 46,
   "metadata": {},
   "outputs": [
    {
     "data": {
      "text/html": [
       "<div>\n",
       "<style scoped>\n",
       "    .dataframe tbody tr th:only-of-type {\n",
       "        vertical-align: middle;\n",
       "    }\n",
       "\n",
       "    .dataframe tbody tr th {\n",
       "        vertical-align: top;\n",
       "    }\n",
       "\n",
       "    .dataframe thead th {\n",
       "        text-align: right;\n",
       "    }\n",
       "</style>\n",
       "<table border=\"1\" class=\"dataframe\">\n",
       "  <thead>\n",
       "    <tr style=\"text-align: right;\">\n",
       "      <th></th>\n",
       "      <th>Column Type</th>\n",
       "      <th>Count</th>\n",
       "    </tr>\n",
       "  </thead>\n",
       "  <tbody>\n",
       "    <tr>\n",
       "      <td>0</td>\n",
       "      <td>int64</td>\n",
       "      <td>3</td>\n",
       "    </tr>\n",
       "    <tr>\n",
       "      <td>1</td>\n",
       "      <td>float64</td>\n",
       "      <td>2</td>\n",
       "    </tr>\n",
       "    <tr>\n",
       "      <td>2</td>\n",
       "      <td>object</td>\n",
       "      <td>5</td>\n",
       "    </tr>\n",
       "  </tbody>\n",
       "</table>\n",
       "</div>"
      ],
      "text/plain": [
       "  Column Type  Count\n",
       "0       int64      3\n",
       "1     float64      2\n",
       "2      object      5"
      ]
     },
     "execution_count": 46,
     "metadata": {},
     "output_type": "execute_result"
    }
   ],
   "source": [
    "# 秀出資料欄位的類型與數量\n",
    "dtype_df = df.dtypes.reset_index()\n",
    "dtype_df.columns = [\"Count\", \"Column Type\"]\n",
    "dtype_df = dtype_df.groupby(\"Column Type\").aggregate('count').reset_index()\n",
    "dtype_df"
   ]
  },
  {
   "cell_type": "code",
   "execution_count": 47,
   "metadata": {},
   "outputs": [
    {
     "name": "stdout",
     "output_type": "stream",
     "text": [
      "3 Integer Features : ['Pclass', 'SibSp', 'Parch']\n",
      "\n",
      "2 Float Features : ['Age', 'Fare']\n",
      "\n",
      "5 Object Features : ['Name', 'Sex', 'Ticket', 'Cabin', 'Embarked']\n"
     ]
    }
   ],
   "source": [
    "#確定只有 int64, float64, object 三種類型後, 分別將欄位名稱存於三個 list 中\n",
    "int_features = []\n",
    "float_features = []\n",
    "object_features = []\n",
    "for dtype, feature in zip(df.dtypes, df.columns):\n",
    "    if dtype == 'float64':\n",
    "        float_features.append(feature)\n",
    "    elif dtype == 'int64':\n",
    "        int_features.append(feature)\n",
    "    else:\n",
    "        object_features.append(feature)\n",
    "print(f'{len(int_features)} Integer Features : {int_features}\\n')\n",
    "print(f'{len(float_features)} Float Features : {float_features}\\n')\n",
    "print(f'{len(object_features)} Object Features : {object_features}')"
   ]
  },
  {
   "cell_type": "markdown",
   "metadata": {
    "collapsed": true
   },
   "source": [
    "# 作業1 \n",
    "* 試著執行作業程式，觀察三種類型 (int / float / object) 的欄位分別進行( 平均 mean / 最大值 Max / 相異值 nunique )  \n",
    "中的九次操作會有那些問題? 並試著解釋那些發生Error的程式區塊的原因?  \n",
    "\n",
    "# 作業2\n",
    "* 思考一下，試著舉出今天五種類型以外的一種或多種資料類型，你舉出的新類型是否可以歸在三大類中的某些大類?  \n",
    "所以三大類特徵中，哪一大類處理起來應該最複雜?"
   ]
  },
  {
   "cell_type": "code",
   "execution_count": 48,
   "metadata": {},
   "outputs": [
    {
     "data": {
      "text/plain": [
       "Pclass    2.294882\n",
       "SibSp     0.498854\n",
       "Parch     0.385027\n",
       "dtype: float64"
      ]
     },
     "execution_count": 48,
     "metadata": {},
     "output_type": "execute_result"
    }
   ],
   "source": [
    "# 例 : 整數 (int) 特徵取平均 (mean)\n",
    "df[int_features].mean()"
   ]
  },
  {
   "cell_type": "code",
   "execution_count": 49,
   "metadata": {},
   "outputs": [
    {
     "name": "stdout",
     "output_type": "stream",
     "text": [
      "int_mean: 3.1787624140565316\n",
      "int_Max: 13\n",
      "int_nunique: 11\n",
      "Age\n",
      "Fare\n",
      "float_mean: 66.53791760765559\n",
      "float_Max: 570.3292\n",
      "float_nunique: 773\n",
      "<class 'pandas.core.frame.DataFrame'>\n",
      "                                                  Name     Sex  \\\n",
      "0                              Braund, Mr. Owen Harris    male   \n",
      "1    Cumings, Mrs. John Bradley (Florence Briggs Th...  female   \n",
      "2                               Heikkinen, Miss. Laina  female   \n",
      "3         Futrelle, Mrs. Jacques Heath (Lily May Peel)  female   \n",
      "4                             Allen, Mr. William Henry    male   \n",
      "..                                                 ...     ...   \n",
      "413                                 Spector, Mr. Woolf    male   \n",
      "414                       Oliva y Ocana, Dona. Fermina  female   \n",
      "415                       Saether, Mr. Simon Sivertsen    male   \n",
      "416                                Ware, Mr. Frederick    male   \n",
      "417                           Peter, Master. Michael J    male   \n",
      "\n",
      "                 Ticket Cabin Embarked  \n",
      "0             A/5 21171   NaN        S  \n",
      "1              PC 17599   C85        C  \n",
      "2      STON/O2. 3101282   NaN        S  \n",
      "3                113803  C123        S  \n",
      "4                373450   NaN        S  \n",
      "..                  ...   ...      ...  \n",
      "413           A.5. 3236   NaN        S  \n",
      "414            PC 17758  C105        C  \n",
      "415  SOTON/O.Q. 3101262   NaN        S  \n",
      "416              359309   NaN        S  \n",
      "417                2668   NaN        C  \n",
      "\n",
      "[1309 rows x 5 columns]\n"
     ]
    }
   ],
   "source": [
    "# 請依序列出 三種特徵類型 (int / float / object) x 三種方法 (平均 mean / 最大值 Max / 相異值 nunique) 的其餘操作\n",
    "\"\"\"\n",
    "Your Code Here\n",
    "\"\"\"\n",
    "int_sum = 0\n",
    "float_sum = 0\n",
    "object_sum = []\n",
    "lenObj = 0\n",
    "obj_list = []\n",
    "for INT in int_features:\n",
    "    int_sum += df[INT]\n",
    "print(\"int_mean:\", int_sum.mean())\n",
    "print(\"int_Max:\", int_sum.max())\n",
    "print(\"int_nunique:\", int_sum.nunique())\n",
    "\n",
    "for FLOAT in float_features:\n",
    "    print(FLOAT)\n",
    "    float_sum += df[FLOAT]\n",
    "print(\"float_mean:\", float_sum.mean())\n",
    "print(\"float_Max:\", float_sum.max())\n",
    "print(\"float_nunique:\", float_sum.nunique())\n",
    "\n",
    "\n",
    "#for object處理資料\n",
    "#for ob in range(len(object_features)):\n",
    "#    obj_list = obj_list.concat(df[ob])\n",
    "\n",
    "for dtype, feature in zip(df.dtypes, df.columns):\n",
    "    if dtype == 'float64':\n",
    "        df = df.drop([feature] , axis=1)\n",
    "    elif dtype == 'int64':\n",
    "        df = df.drop([feature] , axis=1)\n",
    "obj_list = df\n",
    "print(type(obj_list))\n",
    "print(obj_list)"
   ]
  },
  {
   "cell_type": "code",
   "execution_count": 55,
   "metadata": {},
   "outputs": [
    {
     "name": "stdout",
     "output_type": "stream",
     "text": [
      "Connolly, Miss. Kate                2\n",
      "Kelly, Mr. James                    2\n",
      "Navratil, Master. Edmond Roger      1\n",
      "Gustafsson, Mr. Alfred Ossian       1\n",
      "Dika, Mr. Mirko                     1\n",
      "                                   ..\n",
      "Hays, Miss. Margaret Bechstein      1\n",
      "Gilnagh, Miss. Katherine \"Katie\"    1\n",
      "Nieminen, Miss. Manta Josefina      1\n",
      "Samaan, Mr. Youssef                 1\n",
      "Cacic, Mr. Jego Grga                1\n",
      "Name: Name, Length: 1307, dtype: int64\n",
      "male      843\n",
      "female    466\n",
      "Name: Sex, dtype: int64\n",
      "CA. 2343        11\n",
      "1601             8\n",
      "CA 2144          8\n",
      "3101295          7\n",
      "S.O.C. 14879     7\n",
      "                ..\n",
      "17770            1\n",
      "695              1\n",
      "349216           1\n",
      "365226           1\n",
      "113807           1\n",
      "Name: Ticket, Length: 929, dtype: int64\n",
      "C23 C25 C27        6\n",
      "G6                 5\n",
      "B57 B59 B63 B66    5\n",
      "D                  4\n",
      "B96 B98            4\n",
      "                  ..\n",
      "E38                1\n",
      "C130               1\n",
      "E12                1\n",
      "C111               1\n",
      "A18                1\n",
      "Name: Cabin, Length: 186, dtype: int64\n",
      "S    914\n",
      "C    270\n",
      "Q    123\n",
      "Name: Embarked, dtype: int64\n",
      "Name : 1.0015302218821729\n",
      "Sex : 654.5\n",
      "Ticket : 1.4090419806243273\n",
      "Cabin : 1.586021505376344\n",
      "Embarked : 435.6666666666667\n"
     ]
    }
   ],
   "source": [
    "for c in object_features:\n",
    "    obj_df = df[c].value_counts()\n",
    "    print(obj_df)\n",
    "    \n",
    "for cc in object_features:\n",
    "    obj_ans = df[cc].value_counts()\n",
    "    print(cc,\":\", obj_ans.mean())\n",
    "\n",
    "#作業一容易遇到的問題是在找object的平均值,最大值,相異值,原因是因為object不是數值而是屬於類別型特徵,\n",
    "#必須賦予值並找到個數才能計算特徵平均值等關係\n"
   ]
  },
  {
   "cell_type": "code",
   "execution_count": null,
   "metadata": {},
   "outputs": [],
   "source": [
    "#ANS\n",
    "#我猜是複合型的特徵,例如需要根據國籍的特徵才能判斷各國風土民情,例如亞洲人喜歡米飯麵食,歐美人可能喜歡牛排等,可能會比較複雜\n",
    "#因為必須先整理國籍的特徵再根據這些特徵給予飲食習慣的特徵分數等等.\n",
    "#目前覺得最困難的應該是類別型特徵,要能夠準確定義對應的分數可能需要一點經驗的累積."
   ]
  }
 ],
 "metadata": {
  "kernelspec": {
   "display_name": "Python 3",
   "language": "python",
   "name": "python3"
  },
  "language_info": {
   "codemirror_mode": {
    "name": "ipython",
    "version": 3
   },
   "file_extension": ".py",
   "mimetype": "text/x-python",
   "name": "python",
   "nbconvert_exporter": "python",
   "pygments_lexer": "ipython3",
   "version": "3.7.4"
  }
 },
 "nbformat": 4,
 "nbformat_minor": 2
}
