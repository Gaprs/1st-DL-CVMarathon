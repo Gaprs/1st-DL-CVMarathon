{
 "cells": [
  {
   "cell_type": "code",
   "execution_count": 62,
   "metadata": {},
   "outputs": [],
   "source": [
    "import pandas as pd\n",
    "import numpy as np\n",
    "import matplotlib.pyplot as plt\n",
    "import seaborn as sns\n",
    "import os\n",
    "import math\n",
    "from sklearn import datasets, metrics\n",
    "from sklearn.ensemble import RandomForestClassifier\n",
    "from sklearn.model_selection import train_test_split\n",
    "from sklearn.linear_model import LogisticRegression\n",
    "from sklearn.model_selection import cross_val_score\n",
    "from sklearn.preprocessing import MinMaxScaler, StandardScaler, LabelEncoder\n",
    "from sklearn.metrics import mean_squared_error, r2_score, accuracy_score"
   ]
  },
  {
   "cell_type": "code",
   "execution_count": 63,
   "metadata": {},
   "outputs": [],
   "source": [
    "# 設定 data_path\n",
    "dir_data = '/home/osboxes/Documents/Day_048_HW/'\n",
    "train_data = os.path.join(dir_data, 'train.csv')\n",
    "test_data = os.path.join(dir_data, 'test.csv')\n",
    "train_lable_data = os.path.join(dir_data, 'trainLabels.csv')\n",
    "\n",
    "# 讀取檔案\n",
    "app_train = pd.read_csv(train_data, header=None)\n",
    "app_test = pd.read_csv(test_data, header=None)\n",
    "app_train_lable = pd.read_csv(train_lable_data, header=None)"
   ]
  },
  {
   "cell_type": "code",
   "execution_count": 64,
   "metadata": {},
   "outputs": [
    {
     "name": "stdout",
     "output_type": "stream",
     "text": [
      "(1000, 40)\n",
      "(9000, 40)\n",
      "(1000, 1)\n"
     ]
    }
   ],
   "source": [
    "print(app_train.shape)\n",
    "print(app_test.shape)\n",
    "print(app_train_lable.shape)"
   ]
  },
  {
   "cell_type": "code",
   "execution_count": 65,
   "metadata": {},
   "outputs": [],
   "source": [
    "train_x, test_x, train_y, test_y = train_test_split(app_train, app_train_lable, test_size=0.1, random_state=4)\n",
    "RF = RandomForestClassifier()\n"
   ]
  },
  {
   "cell_type": "code",
   "execution_count": 66,
   "metadata": {},
   "outputs": [
    {
     "name": "stdout",
     "output_type": "stream",
     "text": [
      "[0 1 0 0 1 1 1 1 0 1 1 1 0 0 0 1 1 0 1 1 1 1 0 0 1 1 1 0 1 0 0 0 0 1 0 1 0\n",
      " 0 1 1 0 0 0 1 0 0 1 0 0 0 0 0 0 0 0 0 1 1 0 0 0 0 1 1 1 1 1 0 0 1 0 1 0 0\n",
      " 1 1 1 1 0 0 1 0 1 1 0 0 0 0 1 0 1 0 0 0 0 1 0 1 1 0]\n"
     ]
    },
    {
     "name": "stderr",
     "output_type": "stream",
     "text": [
      "/home/osboxes/anaconda3/lib/python3.7/site-packages/sklearn/ensemble/forest.py:245: FutureWarning: The default value of n_estimators will change from 10 in version 0.20 to 100 in 0.22.\n",
      "  \"10 in version 0.20 to 100 in 0.22.\", FutureWarning)\n",
      "/home/osboxes/anaconda3/lib/python3.7/site-packages/ipykernel_launcher.py:1: DataConversionWarning: A column-vector y was passed when a 1d array was expected. Please change the shape of y to (n_samples,), for example using ravel().\n",
      "  \"\"\"Entry point for launching an IPython kernel.\n"
     ]
    }
   ],
   "source": [
    "RF.fit(train_x, train_y)\n",
    "y_perd = RF.predict(test_x)\n",
    "print(y_perd)"
   ]
  },
  {
   "cell_type": "code",
   "execution_count": 67,
   "metadata": {},
   "outputs": [
    {
     "name": "stdout",
     "output_type": "stream",
     "text": [
      "AC: 0.84\n"
     ]
    }
   ],
   "source": [
    "print(\"AC:\", accuracy_score(test_y, y_perd))"
   ]
  },
  {
   "cell_type": "code",
   "execution_count": 59,
   "metadata": {},
   "outputs": [],
   "source": [
    "RF_class_pred = RF.predict_proba(app_test)"
   ]
  },
  {
   "cell_type": "code",
   "execution_count": 60,
   "metadata": {},
   "outputs": [
    {
     "name": "stdout",
     "output_type": "stream",
     "text": [
      "[[0.2 0.8]\n",
      " [0.8 0.2]\n",
      " [0.6 0.4]\n",
      " ...\n",
      " [0.2 0.8]\n",
      " [0.7 0.3]\n",
      " [0.  1. ]]\n"
     ]
    }
   ],
   "source": [
    "print(RF_class_pred)"
   ]
  },
  {
   "cell_type": "code",
   "execution_count": 69,
   "metadata": {},
   "outputs": [],
   "source": [
    "pred = RF.predict(app_test)"
   ]
  },
  {
   "cell_type": "code",
   "execution_count": 70,
   "metadata": {},
   "outputs": [],
   "source": [
    "submit = pd.DataFrame()\n",
    "submit[\"Id\"] = (app_test.index)+1\n",
    "submit[\"Solution\"] = pred"
   ]
  },
  {
   "cell_type": "code",
   "execution_count": 71,
   "metadata": {},
   "outputs": [],
   "source": [
    "submit.to_csv(\"Day_048.csv\", index=False)"
   ]
  },
  {
   "cell_type": "code",
   "execution_count": 72,
   "metadata": {},
   "outputs": [
    {
     "name": "stdout",
     "output_type": "stream",
     "text": [
      "        Id  Solution\n",
      "0        1         1\n",
      "1        2         0\n",
      "2        3         0\n",
      "3        4         0\n",
      "4        5         0\n",
      "...    ...       ...\n",
      "8995  8996         1\n",
      "8996  8997         1\n",
      "8997  8998         1\n",
      "8998  8999         0\n",
      "8999  9000         1\n",
      "\n",
      "[9000 rows x 2 columns]\n"
     ]
    }
   ],
   "source": [
    "print(submit)"
   ]
  },
  {
   "cell_type": "code",
   "execution_count": null,
   "metadata": {},
   "outputs": [],
   "source": []
  }
 ],
 "metadata": {
  "kernelspec": {
   "display_name": "Python 3",
   "language": "python",
   "name": "python3"
  },
  "language_info": {
   "codemirror_mode": {
    "name": "ipython",
    "version": 3
   },
   "file_extension": ".py",
   "mimetype": "text/x-python",
   "name": "python",
   "nbconvert_exporter": "python",
   "pygments_lexer": "ipython3",
   "version": "3.7.4"
  }
 },
 "nbformat": 4,
 "nbformat_minor": 2
}
