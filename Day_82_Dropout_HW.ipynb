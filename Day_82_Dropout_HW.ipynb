{
 "cells": [
  {
   "cell_type": "markdown",
   "metadata": {},
   "source": [
    "## Work\n",
    "1. 請比較使用不同層數以及不同 Dropout rate 對訓練的效果\n",
    "2. 將 optimizer 改成使用 Adam 並加上適當的 dropout rate 檢視結果"
   ]
  },
  {
   "cell_type": "code",
   "execution_count": 1,
   "metadata": {},
   "outputs": [
    {
     "name": "stderr",
     "output_type": "stream",
     "text": [
      "Using TensorFlow backend.\n"
     ]
    }
   ],
   "source": [
    "import os\n",
    "import keras\n",
    "import itertools\n",
    "# Disable GPU\n",
    "os.environ[\"CUDA_VISIBLE_DEVICES\"] = \"0\""
   ]
  },
  {
   "cell_type": "code",
   "execution_count": 16,
   "metadata": {},
   "outputs": [],
   "source": [
    "train, test = keras.datasets.cifar10.load_data()"
   ]
  },
  {
   "cell_type": "code",
   "execution_count": 17,
   "metadata": {},
   "outputs": [],
   "source": [
    "## 資料前處理\n",
    "def preproc_x(x, flatten=True):\n",
    "    x = x / 255.\n",
    "    if flatten:\n",
    "        x = x.reshape((len(x), -1))\n",
    "    return x\n",
    "\n",
    "def preproc_y(y, num_classes=10):\n",
    "    if y.shape[-1] == 1:\n",
    "        y = keras.utils.to_categorical(y, num_classes)\n",
    "    return y    "
   ]
  },
  {
   "cell_type": "code",
   "execution_count": 18,
   "metadata": {},
   "outputs": [],
   "source": [
    "x_train, y_train = train\n",
    "x_test, y_test = test\n",
    "\n",
    "# Preproc the inputs\n",
    "x_train = preproc_x(x_train)\n",
    "x_test = preproc_x(x_test)\n",
    "\n",
    "# Preprc the outputs\n",
    "y_train = preproc_y(y_train)\n",
    "y_test = preproc_y(y_test)"
   ]
  },
  {
   "cell_type": "code",
   "execution_count": 19,
   "metadata": {},
   "outputs": [],
   "source": [
    "from keras.layers import Dropout\n",
    "\n",
    "\"\"\"\n",
    "建立神經網路，並加入 dropout layer\n",
    "\"\"\"\n",
    "def build_mlp(input_shape, output_units=10, num_neurons=[512, 256, 128], drp_ratio=0.1):\n",
    "    input_layer = keras.layers.Input(input_shape)\n",
    "    \n",
    "    for i, n_units in enumerate(num_neurons):\n",
    "        if i == 0:\n",
    "            x = keras.layers.Dense(units=n_units, \n",
    "                                   activation=\"relu\", \n",
    "                                   name=\"hidden_layer\"+str(i+1))(input_layer)\n",
    "            x = Dropout(drp_ratio)(x)\n",
    "        else:\n",
    "            x = keras.layers.Dense(units=n_units, \n",
    "                                   activation=\"relu\", \n",
    "                                   name=\"hidden_layer\"+str(i+1))(x)\n",
    "            x = Dropout(drp_ratio)(x)\n",
    "    \n",
    "    out = keras.layers.Dense(units=output_units, activation=\"softmax\", name=\"output\")(x)\n",
    "    \n",
    "    model = keras.models.Model(inputs=[input_layer], outputs=[out])\n",
    "    return model"
   ]
  },
  {
   "cell_type": "code",
   "execution_count": 20,
   "metadata": {},
   "outputs": [],
   "source": [
    "## 超參數設定\n",
    "LEARNING_RATE = 1e-3\n",
    "EPOCHS = 50\n",
    "BATCH_SIZE = 256\n",
    "MOMENTUM = 0.95\n",
    "Dropout_EXP = 0.25"
   ]
  },
  {
   "cell_type": "code",
   "execution_count": 21,
   "metadata": {
    "scrolled": true
   },
   "outputs": [
    {
     "name": "stdout",
     "output_type": "stream",
     "text": [
      "Model: \"model_3\"\n",
      "_________________________________________________________________\n",
      "Layer (type)                 Output Shape              Param #   \n",
      "=================================================================\n",
      "input_3 (InputLayer)         (None, 3072)              0         \n",
      "_________________________________________________________________\n",
      "hidden_layer1 (Dense)        (None, 512)               1573376   \n",
      "_________________________________________________________________\n",
      "dropout_7 (Dropout)          (None, 512)               0         \n",
      "_________________________________________________________________\n",
      "hidden_layer2 (Dense)        (None, 256)               131328    \n",
      "_________________________________________________________________\n",
      "dropout_8 (Dropout)          (None, 256)               0         \n",
      "_________________________________________________________________\n",
      "hidden_layer3 (Dense)        (None, 128)               32896     \n",
      "_________________________________________________________________\n",
      "dropout_9 (Dropout)          (None, 128)               0         \n",
      "_________________________________________________________________\n",
      "output (Dense)               (None, 10)                1290      \n",
      "=================================================================\n",
      "Total params: 1,738,890\n",
      "Trainable params: 1,738,890\n",
      "Non-trainable params: 0\n",
      "_________________________________________________________________\n",
      "Train on 50000 samples, validate on 10000 samples\n",
      "Epoch 1/50\n",
      "50000/50000 [==============================] - 3s 54us/step - loss: 2.0489 - accuracy: 0.2443 - val_loss: 1.8168 - val_accuracy: 0.3537\n",
      "Epoch 2/50\n",
      "50000/50000 [==============================] - 3s 56us/step - loss: 1.8798 - accuracy: 0.3149 - val_loss: 1.7722 - val_accuracy: 0.3658\n",
      "Epoch 3/50\n",
      "50000/50000 [==============================] - 2s 49us/step - loss: 1.8287 - accuracy: 0.3365 - val_loss: 1.7146 - val_accuracy: 0.3871\n",
      "Epoch 4/50\n",
      "50000/50000 [==============================] - 2s 48us/step - loss: 1.7818 - accuracy: 0.3576 - val_loss: 1.6709 - val_accuracy: 0.4151\n",
      "Epoch 5/50\n",
      "50000/50000 [==============================] - 3s 53us/step - loss: 1.7480 - accuracy: 0.3682 - val_loss: 1.6655 - val_accuracy: 0.4089\n",
      "Epoch 6/50\n",
      "50000/50000 [==============================] - 3s 54us/step - loss: 1.7262 - accuracy: 0.3776 - val_loss: 1.6282 - val_accuracy: 0.4260\n",
      "Epoch 7/50\n",
      "50000/50000 [==============================] - 2s 48us/step - loss: 1.7029 - accuracy: 0.3878 - val_loss: 1.6138 - val_accuracy: 0.4240\n",
      "Epoch 8/50\n",
      "50000/50000 [==============================] - 2s 48us/step - loss: 1.6890 - accuracy: 0.3914 - val_loss: 1.6057 - val_accuracy: 0.4328\n",
      "Epoch 9/50\n",
      "50000/50000 [==============================] - 2s 48us/step - loss: 1.6725 - accuracy: 0.3964 - val_loss: 1.5909 - val_accuracy: 0.4343\n",
      "Epoch 10/50\n",
      "50000/50000 [==============================] - 2s 48us/step - loss: 1.6652 - accuracy: 0.4006 - val_loss: 1.6006 - val_accuracy: 0.4320\n",
      "Epoch 11/50\n",
      "50000/50000 [==============================] - 2s 48us/step - loss: 1.6533 - accuracy: 0.4045 - val_loss: 1.5599 - val_accuracy: 0.4458\n",
      "Epoch 12/50\n",
      "50000/50000 [==============================] - 2s 48us/step - loss: 1.6428 - accuracy: 0.4087 - val_loss: 1.5710 - val_accuracy: 0.4395\n",
      "Epoch 13/50\n",
      "50000/50000 [==============================] - 2s 49us/step - loss: 1.6330 - accuracy: 0.4131 - val_loss: 1.5557 - val_accuracy: 0.4471\n",
      "Epoch 14/50\n",
      "50000/50000 [==============================] - 2s 49us/step - loss: 1.6240 - accuracy: 0.4150 - val_loss: 1.5638 - val_accuracy: 0.4498\n",
      "Epoch 15/50\n",
      "50000/50000 [==============================] - 2s 49us/step - loss: 1.6193 - accuracy: 0.4173 - val_loss: 1.5466 - val_accuracy: 0.4577\n",
      "Epoch 16/50\n",
      "50000/50000 [==============================] - 2s 48us/step - loss: 1.6174 - accuracy: 0.4211 - val_loss: 1.5361 - val_accuracy: 0.4637\n",
      "Epoch 17/50\n",
      "50000/50000 [==============================] - 2s 49us/step - loss: 1.5986 - accuracy: 0.4251 - val_loss: 1.5325 - val_accuracy: 0.4660\n",
      "Epoch 18/50\n",
      "50000/50000 [==============================] - 2s 49us/step - loss: 1.5856 - accuracy: 0.4277 - val_loss: 1.5149 - val_accuracy: 0.4634\n",
      "Epoch 19/50\n",
      "50000/50000 [==============================] - 3s 56us/step - loss: 1.5887 - accuracy: 0.4260 - val_loss: 1.5291 - val_accuracy: 0.4622\n",
      "Epoch 20/50\n",
      "50000/50000 [==============================] - 2s 49us/step - loss: 1.5820 - accuracy: 0.4311 - val_loss: 1.5341 - val_accuracy: 0.4591\n",
      "Epoch 21/50\n",
      "50000/50000 [==============================] - 2s 49us/step - loss: 1.5784 - accuracy: 0.4322 - val_loss: 1.4862 - val_accuracy: 0.4782\n",
      "Epoch 22/50\n",
      "50000/50000 [==============================] - 2s 48us/step - loss: 1.5745 - accuracy: 0.4378 - val_loss: 1.5338 - val_accuracy: 0.4634\n",
      "Epoch 23/50\n",
      "50000/50000 [==============================] - 2s 48us/step - loss: 1.5653 - accuracy: 0.4368 - val_loss: 1.4987 - val_accuracy: 0.4704\n",
      "Epoch 24/50\n",
      "50000/50000 [==============================] - 2s 48us/step - loss: 1.5565 - accuracy: 0.4412 - val_loss: 1.5137 - val_accuracy: 0.4736\n",
      "Epoch 25/50\n",
      "50000/50000 [==============================] - 2s 48us/step - loss: 1.5516 - accuracy: 0.4442 - val_loss: 1.5085 - val_accuracy: 0.4662\n",
      "Epoch 26/50\n",
      "50000/50000 [==============================] - 2s 48us/step - loss: 1.5460 - accuracy: 0.4450 - val_loss: 1.4879 - val_accuracy: 0.4847\n",
      "Epoch 27/50\n",
      "50000/50000 [==============================] - 3s 50us/step - loss: 1.5443 - accuracy: 0.4463 - val_loss: 1.4849 - val_accuracy: 0.4825\n",
      "Epoch 28/50\n",
      "50000/50000 [==============================] - 2s 49us/step - loss: 1.5439 - accuracy: 0.4447 - val_loss: 1.4751 - val_accuracy: 0.4785\n",
      "Epoch 29/50\n",
      "50000/50000 [==============================] - 2s 49us/step - loss: 1.5319 - accuracy: 0.4492 - val_loss: 1.4872 - val_accuracy: 0.4817\n",
      "Epoch 30/50\n",
      "50000/50000 [==============================] - 2s 49us/step - loss: 1.5278 - accuracy: 0.4518 - val_loss: 1.4588 - val_accuracy: 0.4881\n",
      "Epoch 31/50\n",
      "50000/50000 [==============================] - 2s 49us/step - loss: 1.5328 - accuracy: 0.4503 - val_loss: 1.4708 - val_accuracy: 0.4801\n",
      "Epoch 32/50\n",
      "50000/50000 [==============================] - 2s 49us/step - loss: 1.5235 - accuracy: 0.4548 - val_loss: 1.4733 - val_accuracy: 0.4731\n",
      "Epoch 33/50\n",
      "50000/50000 [==============================] - 2s 49us/step - loss: 1.5283 - accuracy: 0.4529 - val_loss: 1.4834 - val_accuracy: 0.4796\n",
      "Epoch 34/50\n",
      "50000/50000 [==============================] - 2s 49us/step - loss: 1.5187 - accuracy: 0.4562 - val_loss: 1.4551 - val_accuracy: 0.4900\n",
      "Epoch 35/50\n",
      "50000/50000 [==============================] - 2s 48us/step - loss: 1.5222 - accuracy: 0.4556 - val_loss: 1.4890 - val_accuracy: 0.4819\n",
      "Epoch 36/50\n",
      "50000/50000 [==============================] - 2s 49us/step - loss: 1.5179 - accuracy: 0.4554 - val_loss: 1.4436 - val_accuracy: 0.4846\n",
      "Epoch 37/50\n",
      "50000/50000 [==============================] - 2s 49us/step - loss: 1.5090 - accuracy: 0.4605 - val_loss: 1.4853 - val_accuracy: 0.4811\n",
      "Epoch 38/50\n",
      "50000/50000 [==============================] - 3s 55us/step - loss: 1.5194 - accuracy: 0.4526 - val_loss: 1.4610 - val_accuracy: 0.4830\n",
      "Epoch 39/50\n",
      "50000/50000 [==============================] - 2s 48us/step - loss: 1.5053 - accuracy: 0.4581 - val_loss: 1.4619 - val_accuracy: 0.4892\n",
      "Epoch 40/50\n",
      "50000/50000 [==============================] - 2s 48us/step - loss: 1.5056 - accuracy: 0.4589 - val_loss: 1.4693 - val_accuracy: 0.4759\n",
      "Epoch 41/50\n",
      "50000/50000 [==============================] - 2s 49us/step - loss: 1.5066 - accuracy: 0.4612 - val_loss: 1.4612 - val_accuracy: 0.4904\n",
      "Epoch 42/50\n",
      "50000/50000 [==============================] - 2s 49us/step - loss: 1.4966 - accuracy: 0.4619 - val_loss: 1.4661 - val_accuracy: 0.4730\n",
      "Epoch 43/50\n",
      "50000/50000 [==============================] - 2s 48us/step - loss: 1.4996 - accuracy: 0.4582 - val_loss: 1.4790 - val_accuracy: 0.4808\n",
      "Epoch 44/50\n",
      "50000/50000 [==============================] - 2s 48us/step - loss: 1.4887 - accuracy: 0.4651 - val_loss: 1.4730 - val_accuracy: 0.4790\n",
      "Epoch 45/50\n",
      "50000/50000 [==============================] - 2s 49us/step - loss: 1.4961 - accuracy: 0.4650 - val_loss: 1.4298 - val_accuracy: 0.4954\n",
      "Epoch 46/50\n"
     ]
    },
    {
     "name": "stdout",
     "output_type": "stream",
     "text": [
      "50000/50000 [==============================] - 2s 49us/step - loss: 1.4839 - accuracy: 0.4669 - val_loss: 1.4438 - val_accuracy: 0.4950\n",
      "Epoch 47/50\n",
      "50000/50000 [==============================] - 2s 48us/step - loss: 1.4848 - accuracy: 0.4650 - val_loss: 1.4471 - val_accuracy: 0.4803\n",
      "Epoch 48/50\n",
      "50000/50000 [==============================] - 2s 48us/step - loss: 1.4834 - accuracy: 0.4658 - val_loss: 1.4596 - val_accuracy: 0.4839\n",
      "Epoch 49/50\n",
      "50000/50000 [==============================] - 2s 49us/step - loss: 1.4755 - accuracy: 0.4728 - val_loss: 1.4172 - val_accuracy: 0.4999\n",
      "Epoch 50/50\n",
      "50000/50000 [==============================] - 2s 49us/step - loss: 1.4784 - accuracy: 0.4709 - val_loss: 1.4371 - val_accuracy: 0.4897\n"
     ]
    }
   ],
   "source": [
    "model = build_mlp(input_shape=x_train.shape[1:], drp_ratio=Dropout_EXP)\n",
    "model.summary()\n",
    "optimizer = keras.optimizers.Adam(lr=LEARNING_RATE)\n",
    "model.compile(loss=\"categorical_crossentropy\", metrics=[\"accuracy\"], optimizer=optimizer)\n",
    "\n",
    "model.fit(x_train, y_train, \n",
    "          epochs=EPOCHS, \n",
    "          batch_size=BATCH_SIZE, \n",
    "          validation_data=(x_test, y_test), \n",
    "          shuffle=True)\n",
    "\n",
    "# Collect results\n",
    "train_loss = model.history.history[\"loss\"]\n",
    "valid_loss = model.history.history[\"val_loss\"]\n",
    "train_acc = model.history.history[\"accuracy\"]\n",
    "valid_acc = model.history.history[\"val_accuracy\"]"
   ]
  },
  {
   "cell_type": "code",
   "execution_count": 15,
   "metadata": {},
   "outputs": [
    {
     "data": {
      "image/png": "[encoded data removed]",
      "text/plain": [
       "<Figure size 432x288 with 1 Axes>"
      ]
     },
     "metadata": {
      "needs_background": "light"
     },
     "output_type": "display_data"
    },
    {
     "data": {
      "image/png": "[encoded data removed]",
      "text/plain": [
       "<Figure size 432x288 with 1 Axes>"
      ]
     },
     "metadata": {
      "needs_background": "light"
     },
     "output_type": "display_data"
    }
   ],
   "source": [
    "import matplotlib.pyplot as plt\n",
    "%matplotlib inline\n",
    "\n",
    "plt.plot(range(len(train_loss)), train_loss, label=\"train loss\")\n",
    "plt.plot(range(len(valid_loss)), valid_loss, label=\"valid loss\")\n",
    "plt.legend()\n",
    "plt.title(\"Loss\")\n",
    "plt.show()\n",
    "\n",
    "plt.plot(range(len(train_acc)), train_acc, label=\"train accuracy\")\n",
    "plt.plot(range(len(valid_acc)), valid_acc, label=\"valid accuracy\")\n",
    "plt.legend()\n",
    "plt.title(\"Accuracy\")\n",
    "plt.show()"
   ]
  },
  {
   "cell_type": "code",
   "execution_count": null,
   "metadata": {},
   "outputs": [],
   "source": []
  }
 ],
 "metadata": {
  "kernelspec": {
   "display_name": "Python 3",
   "language": "python",
   "name": "python3"
  },
  "language_info": {
   "codemirror_mode": {
    "name": "ipython",
    "version": 3
   },
   "file_extension": ".py",
   "mimetype": "text/x-python",
   "name": "python",
   "nbconvert_exporter": "python",
   "pygments_lexer": "ipython3",
   "version": "3.7.6"
  }
 },
 "nbformat": 4,
 "nbformat_minor": 2
}
